{
 "cells": [
  {
   "cell_type": "markdown",
   "metadata": {
    "deletable": true,
    "editable": true
   },
   "source": [
    "# Use RNN for NLP and test it out with the Kaggle Movie Review Data Set.\n",
    "#### Data Set: https://www.kaggle.com/c/sentiment-analysis-on-movie-reviews"
   ]
  },
  {
   "cell_type": "code",
   "execution_count": 13,
   "metadata": {
    "collapsed": true,
    "deletable": true,
    "editable": true
   },
   "outputs": [],
   "source": [
    "import nltk\n",
    "import numpy as np\n",
    "import matplotlib.pyplot as plt\n",
    "import pandas as pd\n",
    "\n",
    "from keras import Sequential\n",
    "from keras.callbacks import ModelCheckpoint\n",
    "from keras.layers import Embedding, LSTM, Dense, Dropout, BatchNormalization\n",
    "from keras.preprocessing import sequence"
   ]
  },
  {
   "cell_type": "code",
   "execution_count": 14,
   "metadata": {
    "collapsed": false,
    "deletable": true,
    "editable": true
   },
   "outputs": [
    {
     "name": "stdout",
     "output_type": "stream",
     "text": [
      "Largest phrase: 265\n",
      "\n",
      "\n",
      "                                              Phrase  Sentiment\n",
      "0  a series of escapades demonstrating the adage ...          1\n",
      "1  a series of escapades demonstrating the adage ...          2\n",
      "2                                           a series          2\n",
      "3                                                  a          2\n",
      "4                                             series          2\n",
      "5  of escapades demonstrating the adage that what...          2\n",
      "6                                                 of          2\n",
      "7  escapades demonstrating the adage that what is...          2\n",
      "8                                          escapades          2\n",
      "9  demonstrating the adage that what is good for ...          2\n"
     ]
    }
   ],
   "source": [
    "#Preprocess the data.\n",
    "movie_reviews = pd.read_csv('data/train.tsv', sep='\\t')\n",
    "movie_reviews = movie_reviews[['Phrase', 'Sentiment']]\n",
    "movie_reviews['Phrase'] = movie_reviews['Phrase'].str.lower()\n",
    "movie_reviews['Phrase'] = movie_reviews['Phrase'].str.replace(r'[^a-z ]*', '', regex=True)\n",
    "\n",
    "print(\"Largest phrase: {}\".format(movie_reviews['Phrase'].str.len().max()))\n",
    "print(\"\\n\")\n",
    "print(movie_reviews[0:10].to_string())"
   ]
  },
  {
   "cell_type": "code",
   "execution_count": 15,
   "metadata": {
    "collapsed": false,
    "deletable": true,
    "editable": true
   },
   "outputs": [
    {
     "name": "stdout",
     "output_type": "stream",
     "text": [
      "works\n"
     ]
    }
   ],
   "source": [
    "# Create a vocabulary to id mapping.\n",
    "stop_words = ['the', 'a', 'of', 'and', 'to', 's', 'in', 'is', 'its', 'an', 'be', 'by', 'at', 'rrb', 'lrb', 'i', \n",
    "              'you' 'it', 'me', 'my', 'myself', 'we', 'our', 'ours', 'ourselves', 'you', \"you're\", \"you've\", \n",
    "              \"you'll\", \"you'd\", 'your', 'yours', 'yourself', 'yourselves', 'he', 'him', 'his', 'himself', \n",
    "              'she', \"she's\", 'her', 'hers', 'herself']\n",
    "\n",
    "phrases = movie_reviews['Phrase']\n",
    "review_corpus = ' '.join(phrases.tolist())\n",
    "tokens = nltk.word_tokenize(review_corpus)\n",
    "words = [t for t in tokens if t not in stop_words]\n",
    "\n",
    "int_to_vocab = dict(enumerate(set(words)))\n",
    "vocab_to_int = dict(zip(int_to_vocab.values(), int_to_vocab.keys()))\n",
    "\n",
    "def verify_lookups(i2v, v2i):\n",
    "    for k in i2v:\n",
    "        v = i2v[k]\n",
    "        if k != v2i[v]:\n",
    "            print('not matching, {0}'.format(v))\n",
    "    print('works')\n",
    "\n",
    "verify_lookups(int_to_vocab, vocab_to_int)"
   ]
  },
  {
   "cell_type": "code",
   "execution_count": 16,
   "metadata": {
    "collapsed": true,
    "deletable": true,
    "editable": true
   },
   "outputs": [],
   "source": [
    "# define lookup functions\n",
    "def get_vocab_id(word):\n",
    "    return vocab_to_int.get(word, None)\n",
    "\n",
    "def get_id_vocab(id):\n",
    "    return int_to_vocab.get(id, None)"
   ]
  },
  {
   "cell_type": "code",
   "execution_count": 17,
   "metadata": {
    "collapsed": false,
    "deletable": true,
    "editable": true
   },
   "outputs": [
    {
     "name": "stdout",
     "output_type": "stream",
     "text": [
      "Lenght of training set: 124848 \n",
      "Length of Validation set: 31212\n"
     ]
    }
   ],
   "source": [
    "#Divide into train, validate, and validation sets\n",
    "train, validate =  np.split(movie_reviews.sample(frac=1), [int(.8*len(movie_reviews))])\n",
    "\n",
    "train_x, train_y = train['Phrase'], train['Sentiment']\n",
    "validate_x, validate_y = validate['Phrase'], validate['Sentiment']\n",
    "\n",
    "print(\"Lenght of training set: {0} \\nLength of Validation set: {1}\"\n",
    "      .format(len(train), len(validate)))"
   ]
  },
  {
   "cell_type": "code",
   "execution_count": 18,
   "metadata": {
    "collapsed": false,
    "deletable": true,
    "editable": true
   },
   "outputs": [
    {
     "data": {
      "text/plain": [
       "(array([ 1360.,     0.,  5571.,     0.,     0., 15823.,     0.,  6611.,\n",
       "            0.,  1847.]),\n",
       " array([0. , 0.4, 0.8, 1.2, 1.6, 2. , 2.4, 2.8, 3.2, 3.6, 4. ]),\n",
       " <a list of 10 Patch objects>)"
      ]
     },
     "execution_count": 18,
     "metadata": {},
     "output_type": "execute_result"
    },
    {
     "data": {
      "image/png": "[encoded data removed]",
      "text/plain": [
       "<Figure size 432x288 with 1 Axes>"
      ]
     },
     "metadata": {
      "needs_background": "light"
     },
     "output_type": "display_data"
    }
   ],
   "source": [
    "# Just to make sure we didn't mess up the distributions print out the sentiment distributions of the sets.\n",
    "train_distribution = train.groupby(by='Sentiment').count().reset_index()\n",
    "validate_distribution = validate.groupby(by='Sentiment').count().reset_index()\n",
    "\n",
    "plt.hist(train_distribution['Sentiment'], weights=train_distribution['Phrase'])\n",
    "plt.hist(validate_distribution['Sentiment'], weights=validate_distribution['Phrase'])"
   ]
  },
  {
   "cell_type": "code",
   "execution_count": 19,
   "metadata": {
    "collapsed": false,
    "deletable": true,
    "editable": true
   },
   "outputs": [
    {
     "name": "stdout",
     "output_type": "stream",
     "text": [
      "PHRASE IN TEXT: a series of escapades demonstrating the adage that what is good for the goose is also good for the gander  some of which occasionally amuses but none of which amounts to much of a story \n",
      "CONVERTED PHRASE: [194, 5398, 15244, 6137, 1472, 7459, 8010, 3766, 8997, 1417, 8010, 3766, 11778, 4102, 13549, 1262, 3777, 4066, 4662, 13549, 7549, 9837, 13458]\n",
      "\n",
      "Before\n",
      "60320     to fashion a brazillike  hyperreal satire\n",
      "112873                 the selfesteem of employment\n",
      "Name: Phrase, dtype: object\n",
      "\n",
      "After\n",
      "60320     [9786, 4237, 3956, 11559]\n",
      "112873                 [7414, 8675]\n",
      "Name: Phrase, dtype: object\n"
     ]
    }
   ],
   "source": [
    "# Functions to convert the values to their ids.\n",
    "def convert_vocab_to_id(phrase):\n",
    "    phrase_ids = []\n",
    "    for w in phrase.split(' '):\n",
    "        id = vocab_to_int.get(w, None)\n",
    "        if id:\n",
    "            phrase_ids.append(id)\n",
    "        else:\n",
    "            continue\n",
    "    return phrase_ids\n",
    "\n",
    "print(\"PHRASE IN TEXT: {}\".format(movie_reviews['Phrase'][0]))\n",
    "print(\"CONVERTED PHRASE: {}\".format(convert_vocab_to_id(movie_reviews['Phrase'][0])))\n",
    "\n",
    "train_X = train_x.map(lambda phrase: convert_vocab_to_id(phrase))\n",
    "validate_X = validate_x.map(lambda phrase: convert_vocab_to_id(phrase))\n",
    "\n",
    "print(\"\\nBefore\")\n",
    "print(train_x[:2])\n",
    "print(\"\\nAfter\")\n",
    "print(train_X[:2])"
   ]
  },
  {
   "cell_type": "code",
   "execution_count": 20,
   "metadata": {
    "collapsed": false,
    "deletable": true,
    "editable": true
   },
   "outputs": [
    {
     "name": "stdout",
     "output_type": "stream",
     "text": [
      "{0: [0, 0, 0, 1, 0], 1: [0, 0, 1, 0, 0], 2: [1, 0, 0, 0, 0], 3: [0, 1, 0, 0, 0], 4: [0, 0, 0, 0, 1]}\n"
     ]
    }
   ],
   "source": [
    "# One hot code the targets.\n",
    "hot_encoded_targets = pd.get_dummies(train_y.unique()).to_dict()\n",
    "targets_mapping = {k:list(v.values()) for k, v in hot_encoded_targets.items()}\n",
    "print(targets_mapping)\n",
    "\n",
    "Y_train = train_y.map(lambda target: targets_mapping[target]).tolist()\n",
    "Y_validate = validate_y.map(lambda target: targets_mapping[target]).tolist()"
   ]
  },
  {
   "cell_type": "code",
   "execution_count": 21,
   "metadata": {
    "collapsed": true,
    "deletable": true,
    "editable": true
   },
   "outputs": [],
   "source": [
    "# Hyper parameters\n",
    "max_phrase_size = movie_reviews['Phrase'].str.len().max()\n",
    "vocabulary_size = len(int_to_vocab)\n",
    "embedding_size = 256\n",
    "batch_size = 256\n",
    "num_of_epochs = 5"
   ]
  },
  {
   "cell_type": "code",
   "execution_count": 22,
   "metadata": {
    "collapsed": false,
    "deletable": true,
    "editable": true
   },
   "outputs": [
    {
     "name": "stdout",
     "output_type": "stream",
     "text": [
      "_________________________________________________________________\n",
      "Layer (type)                 Output Shape              Param #   \n",
      "=================================================================\n",
      "embedding_layer (Embedding)  (None, 265, 256)          4141056   \n",
      "_________________________________________________________________\n",
      "lstm_3 (LSTM)                (None, 265, 128)          197120    \n",
      "_________________________________________________________________\n",
      "lstm_4 (LSTM)                (None, 64)                49408     \n",
      "_________________________________________________________________\n",
      "dense_layer (Dense)          (None, 5)                 325       \n",
      "=================================================================\n",
      "Total params: 4,387,909\n",
      "Trainable params: 4,387,909\n",
      "Non-trainable params: 0\n",
      "_________________________________________________________________\n"
     ]
    }
   ],
   "source": [
    "# Build the model\n",
    "\n",
    "model = Sequential()\n",
    "model.add(Embedding(vocabulary_size, embedding_size, input_length=max_phrase_size, name='embedding_layer'))\n",
    "\n",
    "model.add(LSTM(128,dropout=0.2, recurrent_dropout=0.2, return_sequences=True))\n",
    "model.add(LSTM(64,dropout=0.2, recurrent_dropout=0.2,return_sequences=False))\n",
    "\n",
    "model.add(Dense(5, activation='softmax', name='dense_layer'))\n",
    "\n",
    "model.summary()"
   ]
  },
  {
   "cell_type": "code",
   "execution_count": 23,
   "metadata": {
    "collapsed": true,
    "deletable": true,
    "editable": true
   },
   "outputs": [],
   "source": [
    "# Evalutation model\n",
    "model.compile(loss='categorical_crossentropy', optimizer='adam', metrics=['accuracy'])"
   ]
  },
  {
   "cell_type": "code",
   "execution_count": 24,
   "metadata": {
    "collapsed": false,
    "deletable": true,
    "editable": true
   },
   "outputs": [
    {
     "name": "stdout",
     "output_type": "stream",
     "text": [
      "Train on 124848 samples, validate on 31212 samples\n",
      "Epoch 1/5\n",
      "124848/124848 [==============================] - 2415s 19ms/step - loss: 1.0055 - acc: 0.5980 - val_loss: 0.8570 - val_acc: 0.6511\n",
      "\n",
      "Epoch 00001: val_acc improved from -inf to 0.65106, saving model to ./lstm_weights.best.hdf5\n",
      "Epoch 2/5\n",
      "124848/124848 [==============================] - 2241s 18ms/step - loss: 0.7843 - acc: 0.6803 - val_loss: 0.8135 - val_acc: 0.6675\n",
      "\n",
      "Epoch 00002: val_acc improved from 0.65106 to 0.66747, saving model to ./lstm_weights.best.hdf5\n",
      "Epoch 3/5\n",
      "124848/124848 [==============================] - 2414s 19ms/step - loss: 0.7150 - acc: 0.7040 - val_loss: 0.8113 - val_acc: 0.6658\n",
      "\n",
      "Epoch 00003: val_acc did not improve from 0.66747\n",
      "Epoch 4/5\n",
      "124848/124848 [==============================] - 2493s 20ms/step - loss: 0.6653 - acc: 0.7217 - val_loss: 0.8220 - val_acc: 0.6627\n",
      "\n",
      "Epoch 00004: val_acc did not improve from 0.66747\n",
      "Epoch 5/5\n",
      "124848/124848 [==============================] - 2366s 19ms/step - loss: 0.6259 - acc: 0.7347 - val_loss: 0.8315 - val_acc: 0.6635\n",
      "\n",
      "Epoch 00005: val_acc did not improve from 0.66747\n"
     ]
    }
   ],
   "source": [
    "# Train the model\n",
    "X_train = sequence.pad_sequences(train_X, maxlen=max_phrase_size)\n",
    "X_validate = sequence.pad_sequences(validate_X, maxlen=max_phrase_size)\n",
    "\n",
    "#save weigths after training\n",
    "checkpoint = ModelCheckpoint('./lstm_weights.best.hdf5', monitor='val_acc', verbose=1, \n",
    "                             save_best_only=True, mode='max')\n",
    "callbacks = [checkpoint]\n",
    "\n",
    "history = model.fit(X_train, np.array(Y_train),\n",
    "                    validation_data=(X_validate,  np.array(Y_validate)),\n",
    "                    batch_size=batch_size, epochs=num_of_epochs,\n",
    "                    callbacks=callbacks, verbose=1)"
   ]
  },
  {
   "cell_type": "code",
   "execution_count": 35,
   "metadata": {
    "collapsed": false,
    "deletable": true,
    "editable": true
   },
   "outputs": [
    {
     "name": "stdout",
     "output_type": "stream",
     "text": [
      "dict_keys(['val_loss', 'val_acc', 'loss', 'acc'])\n"
     ]
    },
    {
     "data": {
      "text/plain": [
       "<matplotlib.legend.Legend at 0x1a32322160>"
      ]
     },
     "execution_count": 35,
     "metadata": {},
     "output_type": "execute_result"
    },
    {
     "data": {
      "image/png": "[encoded data removed]",
      "text/plain": [
       "<Figure size 432x288 with 1 Axes>"
      ]
     },
     "metadata": {
      "needs_background": "light"
     },
     "output_type": "display_data"
    },
    {
     "data": {
      "image/png": "[encoded data removed]",
      "text/plain": [
       "<Figure size 432x288 with 1 Axes>"
      ]
     },
     "metadata": {
      "needs_background": "light"
     },
     "output_type": "display_data"
    }
   ],
   "source": [
    "plt.figure(1)\n",
    "plt.title('Accuracy')\n",
    "plt.xlabel('Epochs')\n",
    "plt.ylabel('Accuracy')\n",
    "plt.plot(history.history['val_acc'], label='validation')\n",
    "plt.plot(history.history['acc'], label='train')\n",
    "plt.legend()\n",
    "\n",
    "plt.figure(2)\n",
    "plt.title('Loss')\n",
    "plt.xlabel('Epochs')\n",
    "plt.ylabel('Loss')\n",
    "plt.plot(history.history['val_loss'], label='validation')\n",
    "plt.plot(history.history['loss'], label='train')\n",
    "plt.legend()"
   ]
  },
  {
   "cell_type": "markdown",
   "metadata": {
    "deletable": true,
    "editable": true
   },
   "source": [
    "#### As we can see below looks like after the first two epocs the model seems to hit a ceiling on learning. The validation loss and accuracy seem to diverge from the training values, so seems like the model might be over fitting beyond that. Since we have saved the values of latest improved weights, we can just use those weights instead of the updated weights after 5 epochs."
   ]
  },
  {
   "cell_type": "code",
   "execution_count": 36,
   "metadata": {
    "collapsed": false,
    "deletable": true,
    "editable": true
   },
   "outputs": [
    {
     "name": "stdout",
     "output_type": "stream",
     "text": [
      "Epoch 1/2\n",
      "31212/31212 [==============================] - 528s 17ms/step - loss: 0.8120 - acc: 0.6684\n",
      "Epoch 2/2\n"
     ]
    },
    {
     "name": "stderr",
     "output_type": "stream",
     "text": [
      "/Users/noel/miniconda3/envs/movie_reviews_sentiment_analysis/lib/python3.6/site-packages/keras/callbacks.py:434: RuntimeWarning: Can save best model only with val_acc available, skipping.\n",
      "  'skipping.' % (self.monitor), RuntimeWarning)\n"
     ]
    },
    {
     "name": "stdout",
     "output_type": "stream",
     "text": [
      "31212/31212 [==============================] - 520s 17ms/step - loss: 0.6987 - acc: 0.7152\n"
     ]
    }
   ],
   "source": [
    "# First load the latest saved weights, rather than used the weights after epoch 5.\n",
    "model.load_weights('./lstm_weights.best.hdf5')\n",
    "# Train on the validation set.\n",
    "history = model.fit(X_validate, np.array(Y_validate),\n",
    "                    batch_size=batch_size, epochs=2,\n",
    "                    callbacks=callbacks, verbose=1)\n",
    "model.save_weights('./lstm_weights.validation_training.hdf5')"
   ]
  },
  {
   "cell_type": "code",
   "execution_count": 39,
   "metadata": {
    "collapsed": false,
    "deletable": true,
    "editable": true
   },
   "outputs": [
    {
     "data": {
      "text/plain": [
       "<matplotlib.legend.Legend at 0x1a31322668>"
      ]
     },
     "execution_count": 39,
     "metadata": {},
     "output_type": "execute_result"
    },
    {
     "data": {
      "image/png": "[encoded data removed]",
      "text/plain": [
       "<Figure size 432x288 with 1 Axes>"
      ]
     },
     "metadata": {
      "needs_background": "light"
     },
     "output_type": "display_data"
    }
   ],
   "source": [
    "plt.figure(3)\n",
    "plt.title('Loss and Accuracy')\n",
    "plt.xlabel('Epochs')\n",
    "plt.ylabel('Scale')\n",
    "plt.plot(history.history['acc'], label='accuracy')\n",
    "plt.plot(history.history['loss'], label='loss')\n",
    "plt.legend()"
   ]
  },
  {
   "cell_type": "markdown",
   "metadata": {
    "deletable": true,
    "editable": true
   },
   "source": [
    "#### Without a validation set it is hard to see where the actual learning stops, but two epochs seem safe to prevent  over fitting, just took the number of epochs based on the previous readings. I expect beyond the last epoch here the leanring would slow, which in the previous example market the point where the validation accuracy and the actual accuracy diverged."
   ]
  },
  {
   "cell_type": "code",
   "execution_count": 107,
   "metadata": {
    "collapsed": true,
    "deletable": true,
    "editable": true
   },
   "outputs": [],
   "source": [
    "# Get test data and prepare training data.\n",
    "test_reviews = pd.read_csv('data/test.tsv', sep='\\t')\n",
    "\n",
    "test_reviews['Phrase'] = test_reviews['Phrase'].str.lower()\n",
    "test_reviews['Phrase'] = test_reviews['Phrase'].str.replace(r'[^a-z ]*', '', regex=True)\n",
    "\n",
    "test_reviews['Phrase'] = test_reviews['Phrase'].map(lambda phrase: convert_vocab_to_id(phrase))\n",
    "test_dict = dict(\n",
    "    zip(test_reviews['PhraseId'], \n",
    "        sequence.pad_sequences(test_reviews['Phrase'], maxlen=max_phrase_size)\n",
    "       )\n",
    ")"
   ]
  },
  {
   "cell_type": "code",
   "execution_count": 108,
   "metadata": {
    "collapsed": false,
    "deletable": true,
    "editable": true
   },
   "outputs": [
    {
     "name": "stdout",
     "output_type": "stream",
     "text": [
      "(66292, 265)\n",
      "66292/66292 [==============================] - 711s 11ms/step\n",
      "66292\n"
     ]
    }
   ],
   "source": [
    "# Evaluate\n",
    "arr = np.array(list(test_dict.values()))\n",
    "print(arr.shape)\n",
    "prediction = model.predict(arr, verbose=1)\n",
    "print(len(prediction))"
   ]
  },
  {
   "cell_type": "code",
   "execution_count": 146,
   "metadata": {
    "collapsed": false,
    "deletable": true,
    "editable": true
   },
   "outputs": [
    {
     "data": {
      "text/plain": [
       "66292"
      ]
     },
     "execution_count": 146,
     "metadata": {},
     "output_type": "execute_result"
    }
   ],
   "source": [
    "# Convert the predictions to the arrays:\n",
    "# {0: [0, 0, 0, 1, 0], 1: [0, 0, 1, 0, 0], 2: [1, 0, 0, 0, 0], 3: [0, 1, 0, 0, 0], 4: [0, 0, 0, 0, 1]}\n",
    "# So we can create a reverse lookup for them.\n",
    "\n",
    "def conv_to_sparse(arr):\n",
    "    sparse_arr = np.zeros_like(arr)\n",
    "    sparse_arr[arr.argmax()] = 1\n",
    "    return sparse_arr.astype(int).tolist()\n",
    "\n",
    "sparse_predictions = [conv_to_sparse(p) for p in prediction]\n",
    "final_predictions = [k for sp in sparse_predictions for k, v in targets_mapping.items() if sp == v]\n",
    "len(final_predictions)"
   ]
  },
  {
   "cell_type": "code",
   "execution_count": 160,
   "metadata": {
    "collapsed": false,
    "deletable": true,
    "editable": true
   },
   "outputs": [
    {
     "data": {
      "text/plain": [
       "(array([ 1002.,     0., 10014.,     0.,     0., 40084.,     0., 12686.,\n",
       "            0.,  2506.]),\n",
       " array([0. , 0.4, 0.8, 1.2, 1.6, 2. , 2.4, 2.8, 3.2, 3.6, 4. ]),\n",
       " <a list of 10 Patch objects>)"
      ]
     },
     "execution_count": 160,
     "metadata": {},
     "output_type": "execute_result"
    },
    {
     "data": {
      "image/png": "[encoded data removed]",
      "text/plain": [
       "<Figure size 432x288 with 1 Axes>"
      ]
     },
     "metadata": {
      "needs_background": "light"
     },
     "output_type": "display_data"
    }
   ],
   "source": [
    "# Lets check the distributions of the predictions.\n",
    "predictions_df = pd.DataFrame(data={'PhraseId': list(test_dict.keys()), 'Sentiment': final_predictions})\n",
    "group = predictions_df.groupby(by='Sentiment').count().reset_index()\n",
    "plt.hist(group['Sentiment'], weights=group['PhraseId'])"
   ]
  },
  {
   "cell_type": "code",
   "execution_count": 164,
   "metadata": {
    "collapsed": false,
    "deletable": true,
    "editable": true
   },
   "outputs": [
    {
     "name": "stdout",
     "output_type": "stream",
     "text": [
      "   PhraseId  Sentiment\n",
      "0    156061          2\n",
      "1    156062          2\n",
      "2    156063          2\n",
      "3    156064          2\n",
      "4    156065          2\n",
      "5    156066          2\n",
      "6    156067          3\n",
      "7    156068          2\n",
      "8    156069          3\n",
      "9    156070          2\n"
     ]
    }
   ],
   "source": [
    "# Writing the data to submission file so we can see our accuracy on Kaggle.\n",
    "print(predictions_df[:10])\n",
    "predictions_df.to_csv('./submission.csv', index=False)"
   ]
  },
  {
   "cell_type": "markdown",
   "metadata": {
    "deletable": true,
    "editable": true
   },
   "source": [
    "#### Data Set: https://www.kaggle.com/c/sentiment-analysis-on-movie-reviews\n",
    "#### After submitting the submission.csv on Kaggle. Below was the evaluated score. Maximum score on the data set was .76 and below score is in the top 200 (Which is pretty cool for my first NLP Project :P)\n",
    "\n",
    "<img src=\"images/result.png\">"
   ]
  },
  {
   "cell_type": "code",
   "execution_count": null,
   "metadata": {
    "collapsed": true
   },
   "outputs": [],
   "source": []
  }
 ],
 "metadata": {
  "kernelspec": {
   "display_name": "Python 3",
   "language": "python",
   "name": "python3"
  },
  "language_info": {
   "codemirror_mode": {
    "name": "ipython",
    "version": 3
   },
   "file_extension": ".py",
   "mimetype": "text/x-python",
   "name": "python",
   "nbconvert_exporter": "python",
   "pygments_lexer": "ipython3",
   "version": "3.6.4"
  }
 },
 "nbformat": 4,
 "nbformat_minor": 2
}
