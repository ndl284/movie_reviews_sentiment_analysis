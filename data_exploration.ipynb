{
 "cells": [
  {
   "cell_type": "markdown",
   "metadata": {},
   "source": [
    "# THIS IS THE DATA EXPLORATION NOTEBOOK FOR KAGGLE MOVIE REVIEWS SENTIMENT ANALYSIS"
   ]
  },
  {
   "cell_type": "code",
   "execution_count": 14,
   "metadata": {},
   "outputs": [
    {
     "name": "stdout",
     "output_type": "stream",
     "text": [
      "Lenght of the dataframe: 156060 \n",
      "Dataframe Columns:['PhraseId', 'SentenceId', 'Phrase', 'Sentiment']\n"
     ]
    }
   ],
   "source": [
    "import pandas as pd\n",
    "\n",
    "## Read in the data\n",
    "movie_reviews_df = pd.read_csv('data/train.tsv', sep='\\t')\n",
    "\n",
    "print(\"Lenght of the dataframe: {0} \\nDataframe Columns:{1}\"\n",
    "      .format(len(movie_reviews_df), movie_reviews_df.columns.tolist()))"
   ]
  },
  {
   "cell_type": "code",
   "execution_count": 15,
   "metadata": {},
   "outputs": [
    {
     "name": "stdout",
     "output_type": "stream",
     "text": [
      "    PhraseId  SentenceId                                             Phrase  Sentiment\n",
      "0          1           1  A series of escapades demonstrating the adage ...          1\n",
      "1          2           1  A series of escapades demonstrating the adage ...          2\n",
      "2          3           1                                           A series          2\n",
      "3          4           1                                                  A          2\n",
      "4          5           1                                             series          2\n",
      "5          6           1  of escapades demonstrating the adage that what...          2\n",
      "6          7           1                                                 of          2\n",
      "7          8           1  escapades demonstrating the adage that what is...          2\n",
      "8          9           1                                          escapades          2\n",
      "9         10           1  demonstrating the adage that what is good for ...          2\n",
      "10        11           1                            demonstrating the adage          2\n",
      "11        12           1                                      demonstrating          2\n",
      "12        13           1                                          the adage          2\n",
      "13        14           1                                                the          2\n",
      "14        15           1                                              adage          2\n",
      "15        16           1                    that what is good for the goose          2\n",
      "16        17           1                                               that          2\n",
      "17        18           1                         what is good for the goose          2\n",
      "18        19           1                                               what          2\n",
      "19        20           1                              is good for the goose          2\n",
      "20        21           1                                                 is          2\n",
      "21        22           1                                 good for the goose          3\n",
      "22        23           1                                               good          3\n",
      "23        24           1                                      for the goose          2\n",
      "24        25           1                                                for          2\n",
      "25        26           1                                          the goose          2\n",
      "26        27           1                                              goose          2\n",
      "27        28           1  is also good for the gander , some of which oc...          2\n",
      "28        29           1  is also good for the gander , some of which oc...          2\n",
      "29        30           1                                            is also          2\n",
      "283\n"
     ]
    }
   ],
   "source": [
    "#data example\n",
    "print(movie_reviews_df[0:30].to_string())\n",
    "print(movie_reviews_df['Phrase'].str.len().max())"
   ]
  },
  {
   "cell_type": "code",
   "execution_count": 16,
   "metadata": {},
   "outputs": [
    {
     "name": "stdout",
     "output_type": "stream",
     "text": [
      "Phrase: A series of escapades demonstrating the adage that what is good for the goose is also good for the gander , some of which occasionally amuses but none of which amounts to much of a story .\n",
      "Sentiment: 1\n"
     ]
    }
   ],
   "source": [
    "print(\"Phrase: {0}\\nSentiment: {1}\".format(movie_reviews_df['Phrase'][0], movie_reviews_df['Sentiment'][0]))"
   ]
  },
  {
   "cell_type": "code",
   "execution_count": 17,
   "metadata": {},
   "outputs": [
    {
     "name": "stdout",
     "output_type": "stream",
     "text": [
      "Number of Phrases: 156060\n",
      "Number of Sentense: 8529\n",
      "Distinct Sentiments: [1, 2, 3, 4, 0]\n"
     ]
    }
   ],
   "source": [
    "print(\"Number of Phrases: {0}\\nNumber of Sentense: {1}\\nDistinct Sentiments: {2}\".\n",
    "     format(\n",
    "         len(movie_reviews_df['PhraseId'].unique()),\n",
    "         len(movie_reviews_df['SentenceId'].unique()),\n",
    "         movie_reviews_df['Sentiment'].unique().tolist())\n",
    "     )"
   ]
  },
  {
   "cell_type": "code",
   "execution_count": 18,
   "metadata": {},
   "outputs": [
    {
     "name": "stdout",
     "output_type": "stream",
     "text": [
      "Sentiment\n",
      "0     7072\n",
      "1    27273\n",
      "2    79582\n",
      "3    32927\n",
      "4     9206\n",
      "Name: Phrase, dtype: int64\n"
     ]
    }
   ],
   "source": [
    "grouped_df = movie_reviews_df.groupby(by='Sentiment')\n",
    "print(grouped_df.count()['Phrase'])"
   ]
  },
  {
   "cell_type": "code",
   "execution_count": 22,
   "metadata": {},
   "outputs": [
    {
     "name": "stdout",
     "output_type": "stream",
     "text": [
      "Number of token: 1124613\n"
     ]
    }
   ],
   "source": [
    "# Build a corpus and verify the word distribution.\n",
    "import nltk\n",
    "# nltk.download('punkt')\n",
    "\n",
    "movie_corpus = \" \".join(movie_reviews_df['Phrase'].tolist()).lower()\n",
    "tokens = nltk.word_tokenize(movie_corpus)\n",
    "\n",
    "distribution = nltk.FreqDist(tokens)\n",
    "top_words = distribution.most_common(200)\n",
    "print(\"Number of token: {0}\".format(len(tokens)))"
   ]
  },
  {
   "cell_type": "code",
   "execution_count": 23,
   "metadata": {},
   "outputs": [
    {
     "name": "stdout",
     "output_type": "stream",
     "text": [
      "['i', 'me', 'my', 'myself', 'we', 'our', 'ours', 'ourselves', 'you', \"you're\", \"you've\", \"you'll\", \"you'd\", 'your', 'yours', 'yourself', 'yourselves', 'he', 'him', 'his', 'himself', 'she', \"she's\", 'her', 'hers', 'herself', 'it', \"it's\", 'its', 'itself', 'they', 'them', 'their', 'theirs', 'themselves', 'what', 'which', 'who', 'whom', 'this', 'that', \"that'll\", 'these', 'those', 'am', 'is', 'are', 'was', 'were', 'be', 'been', 'being', 'have', 'has', 'had', 'having', 'do', 'does', 'did', 'doing', 'a', 'an', 'the', 'and', 'but', 'if', 'or', 'because', 'as', 'until', 'while', 'of', 'at', 'by', 'for', 'with', 'about', 'against', 'between', 'into', 'through', 'during', 'before', 'after', 'above', 'below', 'to', 'from', 'up', 'down', 'in', 'out', 'on', 'off', 'over', 'under', 'again', 'further', 'then', 'once', 'here', 'there', 'when', 'where', 'why', 'how', 'all', 'any', 'both', 'each', 'few', 'more', 'most', 'other', 'some', 'such', 'no', 'nor', 'not', 'only', 'own', 'same', 'so', 'than', 'too', 'very', 's', 't', 'can', 'will', 'just', 'don', \"don't\", 'should', \"should've\", 'now', 'd', 'll', 'm', 'o', 're', 've', 'y', 'ain', 'aren', \"aren't\", 'couldn', \"couldn't\", 'didn', \"didn't\", 'doesn', \"doesn't\", 'hadn', \"hadn't\", 'hasn', \"hasn't\", 'haven', \"haven't\", 'isn', \"isn't\", 'ma', 'mightn', \"mightn't\", 'mustn', \"mustn't\", 'needn', \"needn't\", 'shan', \"shan't\", 'shouldn', \"shouldn't\", 'wasn', \"wasn't\", 'weren', \"weren't\", 'won', \"won't\", 'wouldn', \"wouldn't\"]\n"
     ]
    }
   ],
   "source": [
    "# Stop words\n",
    "from nltk.corpus import stopwords\n",
    "# nltk.download('stopwords')\n",
    "\n",
    "print(stopwords.words('english'))"
   ]
  },
  {
   "cell_type": "code",
   "execution_count": 24,
   "metadata": {},
   "outputs": [
    {
     "name": "stdout",
     "output_type": "stream",
     "text": [
      "Number of words: 710553\n"
     ]
    }
   ],
   "source": [
    "# Remove Stop words\n",
    "stop_words = stopwords.words('english')\n",
    "tokens = [t for t in tokens if t not in stop_words]\n",
    "\n",
    "print(\"Number of words: {}\".format(len(tokens)))"
   ]
  },
  {
   "cell_type": "code",
   "execution_count": 25,
   "metadata": {},
   "outputs": [
    {
     "name": "stdout",
     "output_type": "stream",
     "text": [
      "[(',', 42006), ('.', 17865), (\"'s\", 16971), ('film', 6689), ('movie', 5905), (\"n't\", 3970), ('``', 3668), ('one', 3609), ('--', 3356), ('like', 3071), (\"'\", 2917), ('story', 2520), ('-rrb-', 2438), ('-lrb-', 2098), ('good', 2043), ('`', 1906), ('...', 1884), ('characters', 1882), ('much', 1862), ('time', 1747), ('comedy', 1721), ('even', 1597), ('little', 1575), ('funny', 1522), ('way', 1511), ('life', 1484), ('make', 1396), ('movies', 1345), ('love', 1296), ('new', 1278), ('enough', 1248), ('work', 1243), ('us', 1218), ('bad', 1211), ('something', 1152), ('would', 1118), ('never', 1114), ('director', 1099), ('many', 1094), ('people', 1073), ('made', 1060), ('best', 1059), ('two', 1032), ('makes', 1019), ('action', 1005), ('may', 986), ('plot', 979), ('films', 979), ('could', 969), ('character', 968)]\n"
     ]
    }
   ],
   "source": [
    "# Word Statistics\n",
    "import nltk\n",
    "\n",
    "distribution = nltk.FreqDist(tokens)\n",
    "top_words = distribution.most_common(50)\n",
    "print(top_words)"
   ]
  },
  {
   "cell_type": "code",
   "execution_count": 27,
   "metadata": {},
   "outputs": [
    {
     "name": "stderr",
     "output_type": "stream",
     "text": [
      "/Users/noel/miniconda3/envs/movie_reviews_sentiment_analysis/lib/python3.6/site-packages/ipykernel_launcher.py:2: SettingWithCopyWarning: \n",
      "A value is trying to be set on a copy of a slice from a DataFrame.\n",
      "Try using .loc[row_indexer,col_indexer] = value instead\n",
      "\n",
      "See the caveats in the documentation: http://pandas.pydata.org/pandas-docs/stable/indexing.html#indexing-view-versus-copy\n",
      "  \n",
      "/Users/noel/miniconda3/envs/movie_reviews_sentiment_analysis/lib/python3.6/site-packages/ipykernel_launcher.py:3: SettingWithCopyWarning: \n",
      "A value is trying to be set on a copy of a slice from a DataFrame.\n",
      "Try using .loc[row_indexer,col_indexer] = value instead\n",
      "\n",
      "See the caveats in the documentation: http://pandas.pydata.org/pandas-docs/stable/indexing.html#indexing-view-versus-copy\n",
      "  This is separate from the ipykernel package so we can avoid doing imports until\n"
     ]
    },
    {
     "name": "stdout",
     "output_type": "stream",
     "text": [
      "[('the', 51220), ('a', 36130), ('of', 32308), ('and', 31763), ('to', 22448), ('s', 17351), ('in', 13745), ('is', 13447), ('that', 12327), ('it', 11677), ('as', 8633), ('with', 7750), ('for', 7417), ('its', 7051), ('film', 6689), ('an', 6479), ('movie', 5905), ('this', 5677), ('but', 5126), ('be', 4977), ('you', 4827), ('on', 4730), ('nt', 3970), ('by', 3918), ('more', 3888), ('his', 3827), ('about', 3682), ('one', 3609), ('not', 3562), ('at', 3550), ('or', 3472), ('from', 3462), ('than', 3458), ('all', 3201), ('have', 3134), ('like', 3071), ('are', 3059), ('has', 2938), ('so', 2644), ('story', 2520), ('rrb', 2438), ('out', 2372), ('who', 2359), ('most', 2227), ('into', 2163), ('too', 2143), ('up', 2104), ('lrb', 2098), ('good', 2043), ('if', 1979)]\n"
     ]
    }
   ],
   "source": [
    "movie_reviews_df = movie_reviews_df[['Phrase', 'Sentiment']]\n",
    "movie_reviews_df['Phrase'] = movie_reviews_df['Phrase'].str.lower()\n",
    "movie_reviews_df['Phrase'] = movie_reviews_df['Phrase'].str.replace(r'[^a-z ]*', '', regex=True)\n",
    "\n",
    "phrases = movie_reviews_df['Phrase']\n",
    "review_corpus = ' '.join(phrases.tolist())\n",
    "tokens = nltk.word_tokenize(review_corpus)\n",
    "\n",
    "distribution = FreqDist(tokens)\n",
    "top_words = distribution.most_common(50)\n",
    "print(top_words)"
   ]
  },
  {
   "cell_type": "code",
   "execution_count": 29,
   "metadata": {},
   "outputs": [
    {
     "name": "stdout",
     "output_type": "stream",
     "text": [
      "[('film', 6689), ('movie', 5905), ('nt', 3970), ('one', 3609), ('like', 3071), ('story', 2520), ('rrb', 2438), ('lrb', 2098), ('good', 2043), ('characters', 1882), ('much', 1862), ('time', 1747), ('comedy', 1721), ('even', 1597), ('little', 1575), ('funny', 1522), ('way', 1511), ('life', 1484), ('make', 1396), ('movies', 1345), ('love', 1296), ('new', 1278), ('enough', 1248), ('work', 1243), ('us', 1234), ('bad', 1211), ('something', 1156), ('would', 1118), ('never', 1114), ('director', 1099), ('many', 1094), ('people', 1073), ('made', 1060), ('best', 1059), ('two', 1032), ('makes', 1019), ('action', 1005), ('may', 986), ('plot', 979), ('films', 979), ('could', 969), ('character', 968), ('see', 957), ('well', 944), ('world', 917), ('better', 913), ('audience', 912), ('drama', 894), ('look', 888), ('really', 888)]\n"
     ]
    }
   ],
   "source": [
    "tokens = [t for t in tokens if t not in stop_words]\n",
    "\n",
    "distribution = FreqDist(tokens)\n",
    "top_words = distribution.most_common(50)\n",
    "print(top_words)"
   ]
  },
  {
   "cell_type": "code",
   "execution_count": null,
   "metadata": {},
   "outputs": [],
   "source": []
  },
  {
   "cell_type": "code",
   "execution_count": null,
   "metadata": {},
   "outputs": [],
   "source": []
  }
 ],
 "metadata": {
  "kernelspec": {
   "display_name": "Python 3",
   "language": "python",
   "name": "python3"
  },
  "language_info": {
   "codemirror_mode": {
    "name": "ipython",
    "version": 3
   },
   "file_extension": ".py",
   "mimetype": "text/x-python",
   "name": "python",
   "nbconvert_exporter": "python",
   "pygments_lexer": "ipython3",
   "version": "3.6.7"
  }
 },
 "nbformat": 4,
 "nbformat_minor": 2
}
